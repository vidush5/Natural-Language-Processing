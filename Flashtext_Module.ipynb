{
 "cells": [
  {
   "cell_type": "code",
   "execution_count": 18,
   "metadata": {},
   "outputs": [
    {
     "name": "stdout",
     "output_type": "stream",
     "text": [
      "Requirement already satisfied: flashtext in c:\\users\\vidush\\anaconda3\\lib\\site-packages (2.7)\n",
      "Note: you may need to restart the kernel to use updated packages.\n"
     ]
    }
   ],
   "source": [
    "pip install flashtext"
   ]
  },
  {
   "cell_type": "markdown",
   "metadata": {},
   "source": [
    "If you want to search more key words on a document you can use flashtext"
   ]
  },
  {
   "cell_type": "code",
   "execution_count": 19,
   "metadata": {},
   "outputs": [],
   "source": [
    "import flashtext\n",
    "import re\n",
    "import time\n",
    "from flashtext import KeywordProcessor"
   ]
  },
  {
   "cell_type": "code",
   "execution_count": 20,
   "metadata": {},
   "outputs": [],
   "source": [
    "text = \"\"\"The agriculture sector plays a major role in a country's economy. \n",
    "According to the records, in Sri Lanka, it contributes about seven percent to the national Gross Domestic Product. \n",
    "In the local agriculture sector, it can be observed that traditional agricultural methods are commonly used in plantations.\n",
    "But to improve the efficiency in the current agriculture process, the methods used in traditional agriculture process need to be evaluated with respect to the modern agricultural methods. \n",
    "Precision agriculture is one of the rapidly developing areas of utilizing modern agricultural technologies which is also known as satellite farming or site-specific crop management. \n",
    "In the Sri Lankan context, high probability and capability in implementing precision agriculture methods can be found especially in export agriculture industries. \n",
    "Tea can be identified as such an agricultural industry, which is a major source of foreign exchange and is continuing to figure prominently in the economy of Sri Lanka.\n",
    "Also, the oil palm industry has recently recognized as a unique and high economically valuable tree. So, it is mainly focused to give precision agricultural solutions in these farming processes\"\"\""
   ]
  },
  {
   "cell_type": "code",
   "execution_count": 21,
   "metadata": {},
   "outputs": [
    {
     "name": "stdout",
     "output_type": "stream",
     "text": [
      "['agriculture', 'agriculture', 'agriculture', 'agriculture', 'agriculture', 'agriculture', 'agriculture']\n",
      "['Precision']\n",
      "-0.001998424530029297\n"
     ]
    }
   ],
   "source": [
    "t1 = time.time()\n",
    "print(re.findall(\"agriculture\", text))\n",
    "print(re.findall(\"Precision\", text))\n",
    "t2 = time.time()\n",
    "regex_time = t1- t2\n",
    "print(regex_time)"
   ]
  },
  {
   "cell_type": "code",
   "execution_count": 22,
   "metadata": {},
   "outputs": [],
   "source": [
    "keyword_processor = KeywordProcessor()"
   ]
  },
  {
   "cell_type": "code",
   "execution_count": 23,
   "metadata": {},
   "outputs": [
    {
     "data": {
      "text/plain": [
       "True"
      ]
     },
     "execution_count": 23,
     "metadata": {},
     "output_type": "execute_result"
    }
   ],
   "source": [
    "keyword_processor.add_keyword('agriculture')\n",
    "keyword_processor.add_keyword('Precision')"
   ]
  },
  {
   "cell_type": "code",
   "execution_count": 24,
   "metadata": {},
   "outputs": [
    {
     "name": "stdout",
     "output_type": "stream",
     "text": [
      "['agriculture', 'agriculture', 'agriculture', 'agriculture', 'Precision', 'agriculture', 'Precision', 'agriculture', 'agriculture', 'Precision']\n",
      "-0.0010001659393310547\n"
     ]
    }
   ],
   "source": [
    "T1 = time.time()\n",
    "print(keyword_processor.extract_keywords(text))\n",
    "T2 = time.time()\n",
    "flashtext_time = T1-T2\n",
    "print(flashtext_time)"
   ]
  },
  {
   "cell_type": "code",
   "execution_count": null,
   "metadata": {},
   "outputs": [],
   "source": []
  }
 ],
 "metadata": {
  "kernelspec": {
   "display_name": "Python 3",
   "language": "python",
   "name": "python3"
  },
  "language_info": {
   "codemirror_mode": {
    "name": "ipython",
    "version": 3
   },
   "file_extension": ".py",
   "mimetype": "text/x-python",
   "name": "python",
   "nbconvert_exporter": "python",
   "pygments_lexer": "ipython3",
   "version": "3.7.6"
  }
 },
 "nbformat": 4,
 "nbformat_minor": 4
}
